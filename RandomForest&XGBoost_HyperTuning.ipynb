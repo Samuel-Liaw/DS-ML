{
 "cells": [
  {
   "cell_type": "code",
   "execution_count": 2,
   "id": "707d5774-4e9d-436c-a894-1a501e97d645",
   "metadata": {},
   "outputs": [],
   "source": [
    "import pandas as pd\n",
    "import matplotlib.pyplot as plt\n",
    "import seaborn as sns"
   ]
  },
  {
   "cell_type": "markdown",
   "id": "27b05424-3260-48f1-a6f1-39c021c26b96",
   "metadata": {},
   "source": [
    "## Data taken from Kaggle_diabetes_012_health_indicators_BRFSS2015"
   ]
  },
  {
   "cell_type": "code",
   "execution_count": 3,
   "id": "af165c3f-62bf-4069-af18-fa18efc0dd58",
   "metadata": {},
   "outputs": [
    {
     "data": {
      "text/html": [
       "<div>\n",
       "<style scoped>\n",
       "    .dataframe tbody tr th:only-of-type {\n",
       "        vertical-align: middle;\n",
       "    }\n",
       "\n",
       "    .dataframe tbody tr th {\n",
       "        vertical-align: top;\n",
       "    }\n",
       "\n",
       "    .dataframe thead th {\n",
       "        text-align: right;\n",
       "    }\n",
       "</style>\n",
       "<table border=\"1\" class=\"dataframe\">\n",
       "  <thead>\n",
       "    <tr style=\"text-align: right;\">\n",
       "      <th></th>\n",
       "      <th>Diabetes_012</th>\n",
       "      <th>HighBP</th>\n",
       "      <th>HighChol</th>\n",
       "      <th>CholCheck</th>\n",
       "      <th>BMI</th>\n",
       "      <th>Smoker</th>\n",
       "      <th>Stroke</th>\n",
       "      <th>HeartDiseaseorAttack</th>\n",
       "      <th>PhysActivity</th>\n",
       "      <th>Fruits</th>\n",
       "      <th>...</th>\n",
       "      <th>AnyHealthcare</th>\n",
       "      <th>NoDocbcCost</th>\n",
       "      <th>GenHlth</th>\n",
       "      <th>MentHlth</th>\n",
       "      <th>PhysHlth</th>\n",
       "      <th>DiffWalk</th>\n",
       "      <th>Sex</th>\n",
       "      <th>Age</th>\n",
       "      <th>Education</th>\n",
       "      <th>Income</th>\n",
       "    </tr>\n",
       "  </thead>\n",
       "  <tbody>\n",
       "    <tr>\n",
       "      <th>0</th>\n",
       "      <td>0.0</td>\n",
       "      <td>1.0</td>\n",
       "      <td>1.0</td>\n",
       "      <td>1.0</td>\n",
       "      <td>40.0</td>\n",
       "      <td>1.0</td>\n",
       "      <td>0.0</td>\n",
       "      <td>0.0</td>\n",
       "      <td>0.0</td>\n",
       "      <td>0.0</td>\n",
       "      <td>...</td>\n",
       "      <td>1.0</td>\n",
       "      <td>0.0</td>\n",
       "      <td>5.0</td>\n",
       "      <td>18.0</td>\n",
       "      <td>15.0</td>\n",
       "      <td>1.0</td>\n",
       "      <td>0.0</td>\n",
       "      <td>9.0</td>\n",
       "      <td>4.0</td>\n",
       "      <td>3.0</td>\n",
       "    </tr>\n",
       "    <tr>\n",
       "      <th>1</th>\n",
       "      <td>0.0</td>\n",
       "      <td>0.0</td>\n",
       "      <td>0.0</td>\n",
       "      <td>0.0</td>\n",
       "      <td>25.0</td>\n",
       "      <td>1.0</td>\n",
       "      <td>0.0</td>\n",
       "      <td>0.0</td>\n",
       "      <td>1.0</td>\n",
       "      <td>0.0</td>\n",
       "      <td>...</td>\n",
       "      <td>0.0</td>\n",
       "      <td>1.0</td>\n",
       "      <td>3.0</td>\n",
       "      <td>0.0</td>\n",
       "      <td>0.0</td>\n",
       "      <td>0.0</td>\n",
       "      <td>0.0</td>\n",
       "      <td>7.0</td>\n",
       "      <td>6.0</td>\n",
       "      <td>1.0</td>\n",
       "    </tr>\n",
       "    <tr>\n",
       "      <th>2</th>\n",
       "      <td>0.0</td>\n",
       "      <td>1.0</td>\n",
       "      <td>1.0</td>\n",
       "      <td>1.0</td>\n",
       "      <td>28.0</td>\n",
       "      <td>0.0</td>\n",
       "      <td>0.0</td>\n",
       "      <td>0.0</td>\n",
       "      <td>0.0</td>\n",
       "      <td>1.0</td>\n",
       "      <td>...</td>\n",
       "      <td>1.0</td>\n",
       "      <td>1.0</td>\n",
       "      <td>5.0</td>\n",
       "      <td>30.0</td>\n",
       "      <td>30.0</td>\n",
       "      <td>1.0</td>\n",
       "      <td>0.0</td>\n",
       "      <td>9.0</td>\n",
       "      <td>4.0</td>\n",
       "      <td>8.0</td>\n",
       "    </tr>\n",
       "    <tr>\n",
       "      <th>3</th>\n",
       "      <td>0.0</td>\n",
       "      <td>1.0</td>\n",
       "      <td>0.0</td>\n",
       "      <td>1.0</td>\n",
       "      <td>27.0</td>\n",
       "      <td>0.0</td>\n",
       "      <td>0.0</td>\n",
       "      <td>0.0</td>\n",
       "      <td>1.0</td>\n",
       "      <td>1.0</td>\n",
       "      <td>...</td>\n",
       "      <td>1.0</td>\n",
       "      <td>0.0</td>\n",
       "      <td>2.0</td>\n",
       "      <td>0.0</td>\n",
       "      <td>0.0</td>\n",
       "      <td>0.0</td>\n",
       "      <td>0.0</td>\n",
       "      <td>11.0</td>\n",
       "      <td>3.0</td>\n",
       "      <td>6.0</td>\n",
       "    </tr>\n",
       "    <tr>\n",
       "      <th>4</th>\n",
       "      <td>0.0</td>\n",
       "      <td>1.0</td>\n",
       "      <td>1.0</td>\n",
       "      <td>1.0</td>\n",
       "      <td>24.0</td>\n",
       "      <td>0.0</td>\n",
       "      <td>0.0</td>\n",
       "      <td>0.0</td>\n",
       "      <td>1.0</td>\n",
       "      <td>1.0</td>\n",
       "      <td>...</td>\n",
       "      <td>1.0</td>\n",
       "      <td>0.0</td>\n",
       "      <td>2.0</td>\n",
       "      <td>3.0</td>\n",
       "      <td>0.0</td>\n",
       "      <td>0.0</td>\n",
       "      <td>0.0</td>\n",
       "      <td>11.0</td>\n",
       "      <td>5.0</td>\n",
       "      <td>4.0</td>\n",
       "    </tr>\n",
       "  </tbody>\n",
       "</table>\n",
       "<p>5 rows × 22 columns</p>\n",
       "</div>"
      ],
      "text/plain": [
       "   Diabetes_012  HighBP  HighChol  CholCheck   BMI  Smoker  Stroke  \\\n",
       "0           0.0     1.0       1.0        1.0  40.0     1.0     0.0   \n",
       "1           0.0     0.0       0.0        0.0  25.0     1.0     0.0   \n",
       "2           0.0     1.0       1.0        1.0  28.0     0.0     0.0   \n",
       "3           0.0     1.0       0.0        1.0  27.0     0.0     0.0   \n",
       "4           0.0     1.0       1.0        1.0  24.0     0.0     0.0   \n",
       "\n",
       "   HeartDiseaseorAttack  PhysActivity  Fruits  ...  AnyHealthcare  \\\n",
       "0                   0.0           0.0     0.0  ...            1.0   \n",
       "1                   0.0           1.0     0.0  ...            0.0   \n",
       "2                   0.0           0.0     1.0  ...            1.0   \n",
       "3                   0.0           1.0     1.0  ...            1.0   \n",
       "4                   0.0           1.0     1.0  ...            1.0   \n",
       "\n",
       "   NoDocbcCost  GenHlth  MentHlth  PhysHlth  DiffWalk  Sex   Age  Education  \\\n",
       "0          0.0      5.0      18.0      15.0       1.0  0.0   9.0        4.0   \n",
       "1          1.0      3.0       0.0       0.0       0.0  0.0   7.0        6.0   \n",
       "2          1.0      5.0      30.0      30.0       1.0  0.0   9.0        4.0   \n",
       "3          0.0      2.0       0.0       0.0       0.0  0.0  11.0        3.0   \n",
       "4          0.0      2.0       3.0       0.0       0.0  0.0  11.0        5.0   \n",
       "\n",
       "   Income  \n",
       "0     3.0  \n",
       "1     1.0  \n",
       "2     8.0  \n",
       "3     6.0  \n",
       "4     4.0  \n",
       "\n",
       "[5 rows x 22 columns]"
      ]
     },
     "execution_count": 3,
     "metadata": {},
     "output_type": "execute_result"
    }
   ],
   "source": [
    "df = pd.read_csv(r'dataset\\diabetes_012_health_indicators_BRFSS2015.csv')\n",
    "df.head()"
   ]
  },
  {
   "cell_type": "markdown",
   "id": "5acb5b35-c35a-4966-802f-30970e6321b7",
   "metadata": {},
   "source": [
    "## Check if there is missing values"
   ]
  },
  {
   "cell_type": "code",
   "execution_count": 4,
   "id": "12375534-e29d-4772-98df-e3569ac0c4cd",
   "metadata": {},
   "outputs": [
    {
     "name": "stdout",
     "output_type": "stream",
     "text": [
      "<class 'pandas.core.frame.DataFrame'>\n",
      "RangeIndex: 253680 entries, 0 to 253679\n",
      "Data columns (total 22 columns):\n",
      " #   Column                Non-Null Count   Dtype  \n",
      "---  ------                --------------   -----  \n",
      " 0   Diabetes_012          253680 non-null  float64\n",
      " 1   HighBP                253680 non-null  float64\n",
      " 2   HighChol              253680 non-null  float64\n",
      " 3   CholCheck             253680 non-null  float64\n",
      " 4   BMI                   253680 non-null  float64\n",
      " 5   Smoker                253680 non-null  float64\n",
      " 6   Stroke                253680 non-null  float64\n",
      " 7   HeartDiseaseorAttack  253680 non-null  float64\n",
      " 8   PhysActivity          253680 non-null  float64\n",
      " 9   Fruits                253680 non-null  float64\n",
      " 10  Veggies               253680 non-null  float64\n",
      " 11  HvyAlcoholConsump     253680 non-null  float64\n",
      " 12  AnyHealthcare         253680 non-null  float64\n",
      " 13  NoDocbcCost           253680 non-null  float64\n",
      " 14  GenHlth               253680 non-null  float64\n",
      " 15  MentHlth              253680 non-null  float64\n",
      " 16  PhysHlth              253680 non-null  float64\n",
      " 17  DiffWalk              253680 non-null  float64\n",
      " 18  Sex                   253680 non-null  float64\n",
      " 19  Age                   253680 non-null  float64\n",
      " 20  Education             253680 non-null  float64\n",
      " 21  Income                253680 non-null  float64\n",
      "dtypes: float64(22)\n",
      "memory usage: 42.6 MB\n"
     ]
    }
   ],
   "source": [
    "df.info()"
   ]
  },
  {
   "cell_type": "code",
   "execution_count": 5,
   "id": "122b2ddd-b176-44ed-a284-152574414156",
   "metadata": {},
   "outputs": [
    {
     "data": {
      "text/plain": [
       "Diabetes_012\n",
       "0.0    213703\n",
       "2.0     35346\n",
       "1.0      4631\n",
       "Name: count, dtype: int64"
      ]
     },
     "execution_count": 5,
     "metadata": {},
     "output_type": "execute_result"
    }
   ],
   "source": [
    "df['Diabetes_012'].value_counts()"
   ]
  },
  {
   "cell_type": "code",
   "execution_count": 6,
   "id": "b5b6b601-b96f-4ff8-a5ca-b0d4f12efbc5",
   "metadata": {},
   "outputs": [
    {
     "data": {
      "text/plain": [
       "Index(['Diabetes_012', 'HighBP', 'HighChol', 'CholCheck', 'BMI', 'Smoker',\n",
       "       'Stroke', 'HeartDiseaseorAttack', 'PhysActivity', 'Fruits', 'Veggies',\n",
       "       'HvyAlcoholConsump', 'AnyHealthcare', 'NoDocbcCost', 'GenHlth',\n",
       "       'MentHlth', 'PhysHlth', 'DiffWalk', 'Sex', 'Age', 'Education',\n",
       "       'Income'],\n",
       "      dtype='object')"
      ]
     },
     "execution_count": 6,
     "metadata": {},
     "output_type": "execute_result"
    }
   ],
   "source": [
    "df.columns"
   ]
  },
  {
   "cell_type": "code",
   "execution_count": 7,
   "id": "6eba24ef-561a-47ed-9ab1-4c5bd707f4f2",
   "metadata": {},
   "outputs": [],
   "source": [
    "x = df.iloc[:,1:]\n",
    "y = df.iloc[:,0]"
   ]
  },
  {
   "cell_type": "code",
   "execution_count": 11,
   "id": "1b5bde42-3803-4db2-a946-141d0afc97f5",
   "metadata": {},
   "outputs": [],
   "source": [
    "from sklearn.model_selection import train_test_split, RandomizedSearchCV, GridSearchCV"
   ]
  },
  {
   "cell_type": "code",
   "execution_count": 12,
   "id": "5aa88b15-2dc7-4489-97c4-81bcac1b5e82",
   "metadata": {},
   "outputs": [],
   "source": [
    "xtrain, xtest, ytrain, ytest=train_test_split(x,y, random_state=0, test_size=0.2)"
   ]
  },
  {
   "cell_type": "code",
   "execution_count": 14,
   "id": "17fc7117-1833-414f-9255-06417442219d",
   "metadata": {},
   "outputs": [],
   "source": [
    "from sklearn.ensemble import RandomForestClassifier"
   ]
  },
  {
   "cell_type": "markdown",
   "id": "512e5ceb-d25d-44fb-9af3-3c846e5fa934",
   "metadata": {},
   "source": [
    "## Use RandomizedSearchCV to randomly check the best combination of hyper-parameters"
   ]
  },
  {
   "cell_type": "code",
   "execution_count": 17,
   "id": "235743ac-c254-4258-b989-3ac94aaf01c3",
   "metadata": {},
   "outputs": [],
   "source": [
    "param_distributions = {'n_estimators':[20,60,100,140],'min_samples_split':[10,20,30,60,100,150],'criterion':['gini','entropy', 'log_loss']}\n",
    "\n",
    "rand = RandomizedSearchCV(RandomForestClassifier(),param_distributions)"
   ]
  },
  {
   "cell_type": "code",
   "execution_count": 19,
   "id": "34577f47-2fca-4245-bf7a-9d05e794ec8a",
   "metadata": {},
   "outputs": [
    {
     "data": {
      "text/html": [
       "<style>#sk-container-id-1 {color: black;}#sk-container-id-1 pre{padding: 0;}#sk-container-id-1 div.sk-toggleable {background-color: white;}#sk-container-id-1 label.sk-toggleable__label {cursor: pointer;display: block;width: 100%;margin-bottom: 0;padding: 0.3em;box-sizing: border-box;text-align: center;}#sk-container-id-1 label.sk-toggleable__label-arrow:before {content: \"▸\";float: left;margin-right: 0.25em;color: #696969;}#sk-container-id-1 label.sk-toggleable__label-arrow:hover:before {color: black;}#sk-container-id-1 div.sk-estimator:hover label.sk-toggleable__label-arrow:before {color: black;}#sk-container-id-1 div.sk-toggleable__content {max-height: 0;max-width: 0;overflow: hidden;text-align: left;background-color: #f0f8ff;}#sk-container-id-1 div.sk-toggleable__content pre {margin: 0.2em;color: black;border-radius: 0.25em;background-color: #f0f8ff;}#sk-container-id-1 input.sk-toggleable__control:checked~div.sk-toggleable__content {max-height: 200px;max-width: 100%;overflow: auto;}#sk-container-id-1 input.sk-toggleable__control:checked~label.sk-toggleable__label-arrow:before {content: \"▾\";}#sk-container-id-1 div.sk-estimator input.sk-toggleable__control:checked~label.sk-toggleable__label {background-color: #d4ebff;}#sk-container-id-1 div.sk-label input.sk-toggleable__control:checked~label.sk-toggleable__label {background-color: #d4ebff;}#sk-container-id-1 input.sk-hidden--visually {border: 0;clip: rect(1px 1px 1px 1px);clip: rect(1px, 1px, 1px, 1px);height: 1px;margin: -1px;overflow: hidden;padding: 0;position: absolute;width: 1px;}#sk-container-id-1 div.sk-estimator {font-family: monospace;background-color: #f0f8ff;border: 1px dotted black;border-radius: 0.25em;box-sizing: border-box;margin-bottom: 0.5em;}#sk-container-id-1 div.sk-estimator:hover {background-color: #d4ebff;}#sk-container-id-1 div.sk-parallel-item::after {content: \"\";width: 100%;border-bottom: 1px solid gray;flex-grow: 1;}#sk-container-id-1 div.sk-label:hover label.sk-toggleable__label {background-color: #d4ebff;}#sk-container-id-1 div.sk-serial::before {content: \"\";position: absolute;border-left: 1px solid gray;box-sizing: border-box;top: 0;bottom: 0;left: 50%;z-index: 0;}#sk-container-id-1 div.sk-serial {display: flex;flex-direction: column;align-items: center;background-color: white;padding-right: 0.2em;padding-left: 0.2em;position: relative;}#sk-container-id-1 div.sk-item {position: relative;z-index: 1;}#sk-container-id-1 div.sk-parallel {display: flex;align-items: stretch;justify-content: center;background-color: white;position: relative;}#sk-container-id-1 div.sk-item::before, #sk-container-id-1 div.sk-parallel-item::before {content: \"\";position: absolute;border-left: 1px solid gray;box-sizing: border-box;top: 0;bottom: 0;left: 50%;z-index: -1;}#sk-container-id-1 div.sk-parallel-item {display: flex;flex-direction: column;z-index: 1;position: relative;background-color: white;}#sk-container-id-1 div.sk-parallel-item:first-child::after {align-self: flex-end;width: 50%;}#sk-container-id-1 div.sk-parallel-item:last-child::after {align-self: flex-start;width: 50%;}#sk-container-id-1 div.sk-parallel-item:only-child::after {width: 0;}#sk-container-id-1 div.sk-dashed-wrapped {border: 1px dashed gray;margin: 0 0.4em 0.5em 0.4em;box-sizing: border-box;padding-bottom: 0.4em;background-color: white;}#sk-container-id-1 div.sk-label label {font-family: monospace;font-weight: bold;display: inline-block;line-height: 1.2em;}#sk-container-id-1 div.sk-label-container {text-align: center;}#sk-container-id-1 div.sk-container {/* jupyter's `normalize.less` sets `[hidden] { display: none; }` but bootstrap.min.css set `[hidden] { display: none !important; }` so we also need the `!important` here to be able to override the default hidden behavior on the sphinx rendered scikit-learn.org. See: https://github.com/scikit-learn/scikit-learn/issues/21755 */display: inline-block !important;position: relative;}#sk-container-id-1 div.sk-text-repr-fallback {display: none;}</style><div id=\"sk-container-id-1\" class=\"sk-top-container\"><div class=\"sk-text-repr-fallback\"><pre>RandomizedSearchCV(estimator=RandomForestClassifier(),\n",
       "                   param_distributions={&#x27;criterion&#x27;: [&#x27;gini&#x27;, &#x27;entropy&#x27;,\n",
       "                                                      &#x27;log_loss&#x27;],\n",
       "                                        &#x27;min_samples_split&#x27;: [10, 20, 30, 60,\n",
       "                                                              100, 150],\n",
       "                                        &#x27;n_estimators&#x27;: [20, 60, 100, 140]})</pre><b>In a Jupyter environment, please rerun this cell to show the HTML representation or trust the notebook. <br />On GitHub, the HTML representation is unable to render, please try loading this page with nbviewer.org.</b></div><div class=\"sk-container\" hidden><div class=\"sk-item sk-dashed-wrapped\"><div class=\"sk-label-container\"><div class=\"sk-label sk-toggleable\"><input class=\"sk-toggleable__control sk-hidden--visually\" id=\"sk-estimator-id-1\" type=\"checkbox\" ><label for=\"sk-estimator-id-1\" class=\"sk-toggleable__label sk-toggleable__label-arrow\">RandomizedSearchCV</label><div class=\"sk-toggleable__content\"><pre>RandomizedSearchCV(estimator=RandomForestClassifier(),\n",
       "                   param_distributions={&#x27;criterion&#x27;: [&#x27;gini&#x27;, &#x27;entropy&#x27;,\n",
       "                                                      &#x27;log_loss&#x27;],\n",
       "                                        &#x27;min_samples_split&#x27;: [10, 20, 30, 60,\n",
       "                                                              100, 150],\n",
       "                                        &#x27;n_estimators&#x27;: [20, 60, 100, 140]})</pre></div></div></div><div class=\"sk-parallel\"><div class=\"sk-parallel-item\"><div class=\"sk-item\"><div class=\"sk-label-container\"><div class=\"sk-label sk-toggleable\"><input class=\"sk-toggleable__control sk-hidden--visually\" id=\"sk-estimator-id-2\" type=\"checkbox\" ><label for=\"sk-estimator-id-2\" class=\"sk-toggleable__label sk-toggleable__label-arrow\">estimator: RandomForestClassifier</label><div class=\"sk-toggleable__content\"><pre>RandomForestClassifier()</pre></div></div></div><div class=\"sk-serial\"><div class=\"sk-item\"><div class=\"sk-estimator sk-toggleable\"><input class=\"sk-toggleable__control sk-hidden--visually\" id=\"sk-estimator-id-3\" type=\"checkbox\" ><label for=\"sk-estimator-id-3\" class=\"sk-toggleable__label sk-toggleable__label-arrow\">RandomForestClassifier</label><div class=\"sk-toggleable__content\"><pre>RandomForestClassifier()</pre></div></div></div></div></div></div></div></div></div></div>"
      ],
      "text/plain": [
       "RandomizedSearchCV(estimator=RandomForestClassifier(),\n",
       "                   param_distributions={'criterion': ['gini', 'entropy',\n",
       "                                                      'log_loss'],\n",
       "                                        'min_samples_split': [10, 20, 30, 60,\n",
       "                                                              100, 150],\n",
       "                                        'n_estimators': [20, 60, 100, 140]})"
      ]
     },
     "execution_count": 19,
     "metadata": {},
     "output_type": "execute_result"
    }
   ],
   "source": [
    "rand.fit(xtrain, ytrain)"
   ]
  },
  {
   "cell_type": "code",
   "execution_count": 20,
   "id": "4a4c56a9-f277-495d-b991-104db2e3fa90",
   "metadata": {},
   "outputs": [
    {
     "data": {
      "text/html": [
       "<style>#sk-container-id-2 {color: black;}#sk-container-id-2 pre{padding: 0;}#sk-container-id-2 div.sk-toggleable {background-color: white;}#sk-container-id-2 label.sk-toggleable__label {cursor: pointer;display: block;width: 100%;margin-bottom: 0;padding: 0.3em;box-sizing: border-box;text-align: center;}#sk-container-id-2 label.sk-toggleable__label-arrow:before {content: \"▸\";float: left;margin-right: 0.25em;color: #696969;}#sk-container-id-2 label.sk-toggleable__label-arrow:hover:before {color: black;}#sk-container-id-2 div.sk-estimator:hover label.sk-toggleable__label-arrow:before {color: black;}#sk-container-id-2 div.sk-toggleable__content {max-height: 0;max-width: 0;overflow: hidden;text-align: left;background-color: #f0f8ff;}#sk-container-id-2 div.sk-toggleable__content pre {margin: 0.2em;color: black;border-radius: 0.25em;background-color: #f0f8ff;}#sk-container-id-2 input.sk-toggleable__control:checked~div.sk-toggleable__content {max-height: 200px;max-width: 100%;overflow: auto;}#sk-container-id-2 input.sk-toggleable__control:checked~label.sk-toggleable__label-arrow:before {content: \"▾\";}#sk-container-id-2 div.sk-estimator input.sk-toggleable__control:checked~label.sk-toggleable__label {background-color: #d4ebff;}#sk-container-id-2 div.sk-label input.sk-toggleable__control:checked~label.sk-toggleable__label {background-color: #d4ebff;}#sk-container-id-2 input.sk-hidden--visually {border: 0;clip: rect(1px 1px 1px 1px);clip: rect(1px, 1px, 1px, 1px);height: 1px;margin: -1px;overflow: hidden;padding: 0;position: absolute;width: 1px;}#sk-container-id-2 div.sk-estimator {font-family: monospace;background-color: #f0f8ff;border: 1px dotted black;border-radius: 0.25em;box-sizing: border-box;margin-bottom: 0.5em;}#sk-container-id-2 div.sk-estimator:hover {background-color: #d4ebff;}#sk-container-id-2 div.sk-parallel-item::after {content: \"\";width: 100%;border-bottom: 1px solid gray;flex-grow: 1;}#sk-container-id-2 div.sk-label:hover label.sk-toggleable__label {background-color: #d4ebff;}#sk-container-id-2 div.sk-serial::before {content: \"\";position: absolute;border-left: 1px solid gray;box-sizing: border-box;top: 0;bottom: 0;left: 50%;z-index: 0;}#sk-container-id-2 div.sk-serial {display: flex;flex-direction: column;align-items: center;background-color: white;padding-right: 0.2em;padding-left: 0.2em;position: relative;}#sk-container-id-2 div.sk-item {position: relative;z-index: 1;}#sk-container-id-2 div.sk-parallel {display: flex;align-items: stretch;justify-content: center;background-color: white;position: relative;}#sk-container-id-2 div.sk-item::before, #sk-container-id-2 div.sk-parallel-item::before {content: \"\";position: absolute;border-left: 1px solid gray;box-sizing: border-box;top: 0;bottom: 0;left: 50%;z-index: -1;}#sk-container-id-2 div.sk-parallel-item {display: flex;flex-direction: column;z-index: 1;position: relative;background-color: white;}#sk-container-id-2 div.sk-parallel-item:first-child::after {align-self: flex-end;width: 50%;}#sk-container-id-2 div.sk-parallel-item:last-child::after {align-self: flex-start;width: 50%;}#sk-container-id-2 div.sk-parallel-item:only-child::after {width: 0;}#sk-container-id-2 div.sk-dashed-wrapped {border: 1px dashed gray;margin: 0 0.4em 0.5em 0.4em;box-sizing: border-box;padding-bottom: 0.4em;background-color: white;}#sk-container-id-2 div.sk-label label {font-family: monospace;font-weight: bold;display: inline-block;line-height: 1.2em;}#sk-container-id-2 div.sk-label-container {text-align: center;}#sk-container-id-2 div.sk-container {/* jupyter's `normalize.less` sets `[hidden] { display: none; }` but bootstrap.min.css set `[hidden] { display: none !important; }` so we also need the `!important` here to be able to override the default hidden behavior on the sphinx rendered scikit-learn.org. See: https://github.com/scikit-learn/scikit-learn/issues/21755 */display: inline-block !important;position: relative;}#sk-container-id-2 div.sk-text-repr-fallback {display: none;}</style><div id=\"sk-container-id-2\" class=\"sk-top-container\"><div class=\"sk-text-repr-fallback\"><pre>RandomForestClassifier(criterion=&#x27;entropy&#x27;, min_samples_split=60)</pre><b>In a Jupyter environment, please rerun this cell to show the HTML representation or trust the notebook. <br />On GitHub, the HTML representation is unable to render, please try loading this page with nbviewer.org.</b></div><div class=\"sk-container\" hidden><div class=\"sk-item\"><div class=\"sk-estimator sk-toggleable\"><input class=\"sk-toggleable__control sk-hidden--visually\" id=\"sk-estimator-id-4\" type=\"checkbox\" checked><label for=\"sk-estimator-id-4\" class=\"sk-toggleable__label sk-toggleable__label-arrow\">RandomForestClassifier</label><div class=\"sk-toggleable__content\"><pre>RandomForestClassifier(criterion=&#x27;entropy&#x27;, min_samples_split=60)</pre></div></div></div></div></div>"
      ],
      "text/plain": [
       "RandomForestClassifier(criterion='entropy', min_samples_split=60)"
      ]
     },
     "execution_count": 20,
     "metadata": {},
     "output_type": "execute_result"
    }
   ],
   "source": [
    "rand.best_estimator_"
   ]
  },
  {
   "cell_type": "markdown",
   "id": "474fad29-d6f9-4e1c-86f8-cce17608ca61",
   "metadata": {},
   "source": [
    "The best Paramaters shown below"
   ]
  },
  {
   "cell_type": "code",
   "execution_count": 25,
   "id": "79ff4878-deba-458e-a1f4-c7488155276c",
   "metadata": {},
   "outputs": [
    {
     "data": {
      "text/plain": [
       "{'n_estimators': 100, 'min_samples_split': 60, 'criterion': 'entropy'}"
      ]
     },
     "execution_count": 25,
     "metadata": {},
     "output_type": "execute_result"
    }
   ],
   "source": [
    "rand.best_params_"
   ]
  },
  {
   "cell_type": "markdown",
   "id": "4d210da7-1753-4b88-91e8-548a2a1a5db2",
   "metadata": {},
   "source": [
    "Iterated 10 times and below is thier score"
   ]
  },
  {
   "cell_type": "code",
   "execution_count": 34,
   "id": "032e27e3-9f0b-4fe3-89c5-917c32b13b88",
   "metadata": {},
   "outputs": [
    {
     "data": {
      "text/plain": [
       "<Axes: >"
      ]
     },
     "execution_count": 34,
     "metadata": {},
     "output_type": "execute_result"
    },
    {
     "data": {
      "image/png": "[encoded data removed]",
      "text/plain": [
       "<Figure size 640x480 with 1 Axes>"
      ]
     },
     "metadata": {},
     "output_type": "display_data"
    }
   ],
   "source": [
    "result = rand.cv_results_\n",
    "resultdf = pd.DataFrame(result)\n",
    "resultdf.plot(y='mean_test_score')"
   ]
  },
  {
   "cell_type": "code",
   "execution_count": 36,
   "id": "55fb2a4d-2e8b-4ba2-8af9-bb6d8fd0a496",
   "metadata": {},
   "outputs": [
    {
     "data": {
      "text/plain": [
       "<Axes: xlabel='param_n_estimators', ylabel='mean_test_score'>"
      ]
     },
     "execution_count": 36,
     "metadata": {},
     "output_type": "execute_result"
    },
    {
     "data": {
      "image/png": "[encoded data removed]",
      "text/plain": [
       "<Figure size 640x480 with 1 Axes>"
      ]
     },
     "metadata": {},
     "output_type": "display_data"
    }
   ],
   "source": [
    "sns.lineplot(data=resultdf,x='param_n_estimators',y='mean_test_score',hue='param_criterion',errorbar=None)"
   ]
  },
  {
   "cell_type": "code",
   "execution_count": 30,
   "id": "303387f3-71bb-4629-bbf1-61793b9be282",
   "metadata": {},
   "outputs": [
    {
     "data": {
      "text/html": [
       "<div>\n",
       "<style scoped>\n",
       "    .dataframe tbody tr th:only-of-type {\n",
       "        vertical-align: middle;\n",
       "    }\n",
       "\n",
       "    .dataframe tbody tr th {\n",
       "        vertical-align: top;\n",
       "    }\n",
       "\n",
       "    .dataframe thead th {\n",
       "        text-align: right;\n",
       "    }\n",
       "</style>\n",
       "<table border=\"1\" class=\"dataframe\">\n",
       "  <thead>\n",
       "    <tr style=\"text-align: right;\">\n",
       "      <th></th>\n",
       "      <th>mean_fit_time</th>\n",
       "      <th>std_fit_time</th>\n",
       "      <th>mean_score_time</th>\n",
       "      <th>std_score_time</th>\n",
       "      <th>param_n_estimators</th>\n",
       "      <th>param_min_samples_split</th>\n",
       "      <th>param_criterion</th>\n",
       "      <th>params</th>\n",
       "      <th>split0_test_score</th>\n",
       "      <th>split1_test_score</th>\n",
       "      <th>split2_test_score</th>\n",
       "      <th>split3_test_score</th>\n",
       "      <th>split4_test_score</th>\n",
       "      <th>mean_test_score</th>\n",
       "      <th>std_test_score</th>\n",
       "      <th>rank_test_score</th>\n",
       "    </tr>\n",
       "  </thead>\n",
       "  <tbody>\n",
       "    <tr>\n",
       "      <th>0</th>\n",
       "      <td>18.191908</td>\n",
       "      <td>1.439190</td>\n",
       "      <td>1.128269</td>\n",
       "      <td>0.236080</td>\n",
       "      <td>100</td>\n",
       "      <td>60</td>\n",
       "      <td>entropy</td>\n",
       "      <td>{'n_estimators': 100, 'min_samples_split': 60,...</td>\n",
       "      <td>0.850230</td>\n",
       "      <td>0.848062</td>\n",
       "      <td>0.850230</td>\n",
       "      <td>0.850649</td>\n",
       "      <td>0.848256</td>\n",
       "      <td>0.849486</td>\n",
       "      <td>0.001096</td>\n",
       "      <td>1</td>\n",
       "    </tr>\n",
       "    <tr>\n",
       "      <th>1</th>\n",
       "      <td>4.691755</td>\n",
       "      <td>0.315397</td>\n",
       "      <td>0.242505</td>\n",
       "      <td>0.046905</td>\n",
       "      <td>20</td>\n",
       "      <td>30</td>\n",
       "      <td>entropy</td>\n",
       "      <td>{'n_estimators': 20, 'min_samples_split': 30, ...</td>\n",
       "      <td>0.850280</td>\n",
       "      <td>0.846978</td>\n",
       "      <td>0.849910</td>\n",
       "      <td>0.848826</td>\n",
       "      <td>0.846901</td>\n",
       "      <td>0.848579</td>\n",
       "      <td>0.001422</td>\n",
       "      <td>9</td>\n",
       "    </tr>\n",
       "    <tr>\n",
       "      <th>2</th>\n",
       "      <td>13.230394</td>\n",
       "      <td>2.730420</td>\n",
       "      <td>0.693204</td>\n",
       "      <td>0.095314</td>\n",
       "      <td>100</td>\n",
       "      <td>150</td>\n",
       "      <td>entropy</td>\n",
       "      <td>{'n_estimators': 100, 'min_samples_split': 150...</td>\n",
       "      <td>0.850058</td>\n",
       "      <td>0.847841</td>\n",
       "      <td>0.849368</td>\n",
       "      <td>0.850132</td>\n",
       "      <td>0.848231</td>\n",
       "      <td>0.849126</td>\n",
       "      <td>0.000937</td>\n",
       "      <td>6</td>\n",
       "    </tr>\n",
       "    <tr>\n",
       "      <th>3</th>\n",
       "      <td>2.639723</td>\n",
       "      <td>0.348929</td>\n",
       "      <td>0.153835</td>\n",
       "      <td>0.007584</td>\n",
       "      <td>20</td>\n",
       "      <td>30</td>\n",
       "      <td>gini</td>\n",
       "      <td>{'n_estimators': 20, 'min_samples_split': 30, ...</td>\n",
       "      <td>0.849393</td>\n",
       "      <td>0.847496</td>\n",
       "      <td>0.849442</td>\n",
       "      <td>0.849319</td>\n",
       "      <td>0.847935</td>\n",
       "      <td>0.848717</td>\n",
       "      <td>0.000830</td>\n",
       "      <td>8</td>\n",
       "    </tr>\n",
       "    <tr>\n",
       "      <th>4</th>\n",
       "      <td>15.139712</td>\n",
       "      <td>0.562277</td>\n",
       "      <td>0.863541</td>\n",
       "      <td>0.047125</td>\n",
       "      <td>140</td>\n",
       "      <td>100</td>\n",
       "      <td>gini</td>\n",
       "      <td>{'n_estimators': 140, 'min_samples_split': 100...</td>\n",
       "      <td>0.850403</td>\n",
       "      <td>0.847742</td>\n",
       "      <td>0.849319</td>\n",
       "      <td>0.850009</td>\n",
       "      <td>0.848847</td>\n",
       "      <td>0.849264</td>\n",
       "      <td>0.000932</td>\n",
       "      <td>3</td>\n",
       "    </tr>\n",
       "    <tr>\n",
       "      <th>5</th>\n",
       "      <td>2.180898</td>\n",
       "      <td>0.109885</td>\n",
       "      <td>0.140242</td>\n",
       "      <td>0.023589</td>\n",
       "      <td>20</td>\n",
       "      <td>100</td>\n",
       "      <td>gini</td>\n",
       "      <td>{'n_estimators': 20, 'min_samples_split': 100,...</td>\n",
       "      <td>0.849565</td>\n",
       "      <td>0.847422</td>\n",
       "      <td>0.849614</td>\n",
       "      <td>0.850477</td>\n",
       "      <td>0.848872</td>\n",
       "      <td>0.849190</td>\n",
       "      <td>0.001020</td>\n",
       "      <td>4</td>\n",
       "    </tr>\n",
       "    <tr>\n",
       "      <th>6</th>\n",
       "      <td>13.729463</td>\n",
       "      <td>0.578355</td>\n",
       "      <td>0.776897</td>\n",
       "      <td>0.056393</td>\n",
       "      <td>100</td>\n",
       "      <td>30</td>\n",
       "      <td>log_loss</td>\n",
       "      <td>{'n_estimators': 100, 'min_samples_split': 30,...</td>\n",
       "      <td>0.850033</td>\n",
       "      <td>0.847988</td>\n",
       "      <td>0.849541</td>\n",
       "      <td>0.850501</td>\n",
       "      <td>0.847788</td>\n",
       "      <td>0.849170</td>\n",
       "      <td>0.001092</td>\n",
       "      <td>5</td>\n",
       "    </tr>\n",
       "    <tr>\n",
       "      <th>7</th>\n",
       "      <td>6.219882</td>\n",
       "      <td>0.419573</td>\n",
       "      <td>0.384640</td>\n",
       "      <td>0.038760</td>\n",
       "      <td>60</td>\n",
       "      <td>150</td>\n",
       "      <td>gini</td>\n",
       "      <td>{'n_estimators': 60, 'min_samples_split': 150,...</td>\n",
       "      <td>0.850132</td>\n",
       "      <td>0.847717</td>\n",
       "      <td>0.849541</td>\n",
       "      <td>0.849738</td>\n",
       "      <td>0.847763</td>\n",
       "      <td>0.848978</td>\n",
       "      <td>0.001029</td>\n",
       "      <td>7</td>\n",
       "    </tr>\n",
       "    <tr>\n",
       "      <th>8</th>\n",
       "      <td>6.955384</td>\n",
       "      <td>0.761905</td>\n",
       "      <td>0.396907</td>\n",
       "      <td>0.037364</td>\n",
       "      <td>60</td>\n",
       "      <td>100</td>\n",
       "      <td>entropy</td>\n",
       "      <td>{'n_estimators': 60, 'min_samples_split': 100,...</td>\n",
       "      <td>0.850452</td>\n",
       "      <td>0.847964</td>\n",
       "      <td>0.849368</td>\n",
       "      <td>0.850255</td>\n",
       "      <td>0.848502</td>\n",
       "      <td>0.849308</td>\n",
       "      <td>0.000966</td>\n",
       "      <td>2</td>\n",
       "    </tr>\n",
       "    <tr>\n",
       "      <th>9</th>\n",
       "      <td>23.713060</td>\n",
       "      <td>0.537436</td>\n",
       "      <td>1.346988</td>\n",
       "      <td>0.202280</td>\n",
       "      <td>140</td>\n",
       "      <td>10</td>\n",
       "      <td>entropy</td>\n",
       "      <td>{'n_estimators': 140, 'min_samples_split': 10,...</td>\n",
       "      <td>0.850181</td>\n",
       "      <td>0.846683</td>\n",
       "      <td>0.848506</td>\n",
       "      <td>0.849738</td>\n",
       "      <td>0.847566</td>\n",
       "      <td>0.848535</td>\n",
       "      <td>0.001306</td>\n",
       "      <td>10</td>\n",
       "    </tr>\n",
       "  </tbody>\n",
       "</table>\n",
       "</div>"
      ],
      "text/plain": [
       "   mean_fit_time  std_fit_time  mean_score_time  std_score_time  \\\n",
       "0      18.191908      1.439190         1.128269        0.236080   \n",
       "1       4.691755      0.315397         0.242505        0.046905   \n",
       "2      13.230394      2.730420         0.693204        0.095314   \n",
       "3       2.639723      0.348929         0.153835        0.007584   \n",
       "4      15.139712      0.562277         0.863541        0.047125   \n",
       "5       2.180898      0.109885         0.140242        0.023589   \n",
       "6      13.729463      0.578355         0.776897        0.056393   \n",
       "7       6.219882      0.419573         0.384640        0.038760   \n",
       "8       6.955384      0.761905         0.396907        0.037364   \n",
       "9      23.713060      0.537436         1.346988        0.202280   \n",
       "\n",
       "  param_n_estimators param_min_samples_split param_criterion  \\\n",
       "0                100                      60         entropy   \n",
       "1                 20                      30         entropy   \n",
       "2                100                     150         entropy   \n",
       "3                 20                      30            gini   \n",
       "4                140                     100            gini   \n",
       "5                 20                     100            gini   \n",
       "6                100                      30        log_loss   \n",
       "7                 60                     150            gini   \n",
       "8                 60                     100         entropy   \n",
       "9                140                      10         entropy   \n",
       "\n",
       "                                              params  split0_test_score  \\\n",
       "0  {'n_estimators': 100, 'min_samples_split': 60,...           0.850230   \n",
       "1  {'n_estimators': 20, 'min_samples_split': 30, ...           0.850280   \n",
       "2  {'n_estimators': 100, 'min_samples_split': 150...           0.850058   \n",
       "3  {'n_estimators': 20, 'min_samples_split': 30, ...           0.849393   \n",
       "4  {'n_estimators': 140, 'min_samples_split': 100...           0.850403   \n",
       "5  {'n_estimators': 20, 'min_samples_split': 100,...           0.849565   \n",
       "6  {'n_estimators': 100, 'min_samples_split': 30,...           0.850033   \n",
       "7  {'n_estimators': 60, 'min_samples_split': 150,...           0.850132   \n",
       "8  {'n_estimators': 60, 'min_samples_split': 100,...           0.850452   \n",
       "9  {'n_estimators': 140, 'min_samples_split': 10,...           0.850181   \n",
       "\n",
       "   split1_test_score  split2_test_score  split3_test_score  split4_test_score  \\\n",
       "0           0.848062           0.850230           0.850649           0.848256   \n",
       "1           0.846978           0.849910           0.848826           0.846901   \n",
       "2           0.847841           0.849368           0.850132           0.848231   \n",
       "3           0.847496           0.849442           0.849319           0.847935   \n",
       "4           0.847742           0.849319           0.850009           0.848847   \n",
       "5           0.847422           0.849614           0.850477           0.848872   \n",
       "6           0.847988           0.849541           0.850501           0.847788   \n",
       "7           0.847717           0.849541           0.849738           0.847763   \n",
       "8           0.847964           0.849368           0.850255           0.848502   \n",
       "9           0.846683           0.848506           0.849738           0.847566   \n",
       "\n",
       "   mean_test_score  std_test_score  rank_test_score  \n",
       "0         0.849486        0.001096                1  \n",
       "1         0.848579        0.001422                9  \n",
       "2         0.849126        0.000937                6  \n",
       "3         0.848717        0.000830                8  \n",
       "4         0.849264        0.000932                3  \n",
       "5         0.849190        0.001020                4  \n",
       "6         0.849170        0.001092                5  \n",
       "7         0.848978        0.001029                7  \n",
       "8         0.849308        0.000966                2  \n",
       "9         0.848535        0.001306               10  "
      ]
     },
     "execution_count": 30,
     "metadata": {},
     "output_type": "execute_result"
    }
   ],
   "source": [
    "resultdf"
   ]
  },
  {
   "cell_type": "code",
   "execution_count": 38,
   "id": "87e9e68d-f6e2-4d0a-bee1-8477871eee18",
   "metadata": {},
   "outputs": [],
   "source": [
    "randbest = RandomForestClassifier(\n",
    "    n_estimators=100, min_samples_split=60, criterion='entropy'\n",
    ")"
   ]
  },
  {
   "cell_type": "code",
   "execution_count": 39,
   "id": "66a896f6-f841-4542-9e6a-0038e080bff1",
   "metadata": {},
   "outputs": [],
   "source": [
    "randpredict = randbest.fit(xtrain, ytrain).predict(xtest)"
   ]
  },
  {
   "cell_type": "code",
   "execution_count": 42,
   "id": "1736346b-8f71-40cd-9836-1d78160723a0",
   "metadata": {},
   "outputs": [],
   "source": [
    "from sklearn.metrics import precision_score, recall_score, confusion_matrix"
   ]
  },
  {
   "cell_type": "code",
   "execution_count": 90,
   "id": "6e079555-6c85-4ed1-8c18-f9f7496984ba",
   "metadata": {},
   "outputs": [
    {
     "name": "stdout",
     "output_type": "stream",
     "text": [
      "precision_score is [0.85635708 0.         0.61067314]\n",
      "recall_score is [0.98636694 0.         0.13964776]\n"
     ]
    }
   ],
   "source": [
    "print(f'precision_score is {precision_score(ytest,randpredict,average=None,zero_division=0)}')\n",
    "print(f'recall_score is {recall_score(ytest,randpredict,average=None,zero_division=0)}')"
   ]
  },
  {
   "cell_type": "code",
   "execution_count": 72,
   "id": "b2e9ea61-7b7f-4233-86d3-97ddcd6dad4a",
   "metadata": {},
   "outputs": [
    {
     "data": {
      "text/plain": [
       "Diabetes_012\n",
       "0.0    42617\n",
       "2.0     7211\n",
       "1.0      908\n",
       "Name: count, dtype: int64"
      ]
     },
     "execution_count": 72,
     "metadata": {},
     "output_type": "execute_result"
    }
   ],
   "source": [
    "ytest.value_counts()"
   ]
  },
  {
   "cell_type": "markdown",
   "id": "9323d50d-0dbe-481e-8583-43fb638af28b",
   "metadata": {},
   "source": [
    "## Conclusion from precision and recall <br> precision_score shows during prediction 86% 0 and 61% 2 were correctly predicted <br> recall_score shows 99% and 14% 0 and 2 were correctly predict <br> None 1 is correctly predicted"
   ]
  },
  {
   "cell_type": "code",
   "execution_count": 97,
   "id": "8af3a281-865f-4240-95f9-9ca8b6ff02aa",
   "metadata": {},
   "outputs": [
    {
     "data": {
      "text/plain": [
       "Text(0.5, 1.0, 'Divided By All Tested Data')"
      ]
     },
     "execution_count": 97,
     "metadata": {},
     "output_type": "execute_result"
    },
    {
     "data": {
      "image/png": "[encoded data removed]",
      "text/plain": [
       "<Figure size 1200x400 with 4 Axes>"
      ]
     },
     "metadata": {},
     "output_type": "display_data"
    }
   ],
   "source": [
    "cm = confusion_matrix(ytest,randpredict)\n",
    "fig,axes = plt.subplots(1,2,figsize=(12,4))\n",
    "sns.heatmap(cm,annot=True,fmt=',',ax=axes[0])\n",
    "sns.heatmap(cm/len(ytest),annot=True,fmt='.2%',ax=axes[1])\n",
    "axes[0].set_title('Heatmap')\n",
    "axes[1].set_title('Divided By All Tested Data')"
   ]
  },
  {
   "cell_type": "markdown",
   "id": "cc0638be-2e46-49aa-af13-7a5f730bdef8",
   "metadata": {},
   "source": [
    "## Start XGB Classifier"
   ]
  },
  {
   "cell_type": "code",
   "execution_count": 53,
   "id": "daa0da32-ef30-45bd-9bcd-c7f3608e7e63",
   "metadata": {},
   "outputs": [],
   "source": [
    "from xgboost import XGBClassifier"
   ]
  },
  {
   "cell_type": "code",
   "execution_count": 54,
   "id": "44db8645-7150-4ac3-b131-c59b67283279",
   "metadata": {},
   "outputs": [],
   "source": [
    "param_distributions = {'n_estimators':[20,60,100,140],'max_leaves':[20,60,100,140],'learning_rate':[0.1,0.2,0.3,0.5]}\n",
    "randXGB = RandomizedSearchCV(XGBClassifier(),param_distributions)"
   ]
  },
  {
   "cell_type": "code",
   "execution_count": 55,
   "id": "8f219756-2278-4d23-b08a-dc71d0265bf6",
   "metadata": {},
   "outputs": [
    {
     "data": {
      "text/html": [
       "<style>#sk-container-id-3 {color: black;}#sk-container-id-3 pre{padding: 0;}#sk-container-id-3 div.sk-toggleable {background-color: white;}#sk-container-id-3 label.sk-toggleable__label {cursor: pointer;display: block;width: 100%;margin-bottom: 0;padding: 0.3em;box-sizing: border-box;text-align: center;}#sk-container-id-3 label.sk-toggleable__label-arrow:before {content: \"▸\";float: left;margin-right: 0.25em;color: #696969;}#sk-container-id-3 label.sk-toggleable__label-arrow:hover:before {color: black;}#sk-container-id-3 div.sk-estimator:hover label.sk-toggleable__label-arrow:before {color: black;}#sk-container-id-3 div.sk-toggleable__content {max-height: 0;max-width: 0;overflow: hidden;text-align: left;background-color: #f0f8ff;}#sk-container-id-3 div.sk-toggleable__content pre {margin: 0.2em;color: black;border-radius: 0.25em;background-color: #f0f8ff;}#sk-container-id-3 input.sk-toggleable__control:checked~div.sk-toggleable__content {max-height: 200px;max-width: 100%;overflow: auto;}#sk-container-id-3 input.sk-toggleable__control:checked~label.sk-toggleable__label-arrow:before {content: \"▾\";}#sk-container-id-3 div.sk-estimator input.sk-toggleable__control:checked~label.sk-toggleable__label {background-color: #d4ebff;}#sk-container-id-3 div.sk-label input.sk-toggleable__control:checked~label.sk-toggleable__label {background-color: #d4ebff;}#sk-container-id-3 input.sk-hidden--visually {border: 0;clip: rect(1px 1px 1px 1px);clip: rect(1px, 1px, 1px, 1px);height: 1px;margin: -1px;overflow: hidden;padding: 0;position: absolute;width: 1px;}#sk-container-id-3 div.sk-estimator {font-family: monospace;background-color: #f0f8ff;border: 1px dotted black;border-radius: 0.25em;box-sizing: border-box;margin-bottom: 0.5em;}#sk-container-id-3 div.sk-estimator:hover {background-color: #d4ebff;}#sk-container-id-3 div.sk-parallel-item::after {content: \"\";width: 100%;border-bottom: 1px solid gray;flex-grow: 1;}#sk-container-id-3 div.sk-label:hover label.sk-toggleable__label {background-color: #d4ebff;}#sk-container-id-3 div.sk-serial::before {content: \"\";position: absolute;border-left: 1px solid gray;box-sizing: border-box;top: 0;bottom: 0;left: 50%;z-index: 0;}#sk-container-id-3 div.sk-serial {display: flex;flex-direction: column;align-items: center;background-color: white;padding-right: 0.2em;padding-left: 0.2em;position: relative;}#sk-container-id-3 div.sk-item {position: relative;z-index: 1;}#sk-container-id-3 div.sk-parallel {display: flex;align-items: stretch;justify-content: center;background-color: white;position: relative;}#sk-container-id-3 div.sk-item::before, #sk-container-id-3 div.sk-parallel-item::before {content: \"\";position: absolute;border-left: 1px solid gray;box-sizing: border-box;top: 0;bottom: 0;left: 50%;z-index: -1;}#sk-container-id-3 div.sk-parallel-item {display: flex;flex-direction: column;z-index: 1;position: relative;background-color: white;}#sk-container-id-3 div.sk-parallel-item:first-child::after {align-self: flex-end;width: 50%;}#sk-container-id-3 div.sk-parallel-item:last-child::after {align-self: flex-start;width: 50%;}#sk-container-id-3 div.sk-parallel-item:only-child::after {width: 0;}#sk-container-id-3 div.sk-dashed-wrapped {border: 1px dashed gray;margin: 0 0.4em 0.5em 0.4em;box-sizing: border-box;padding-bottom: 0.4em;background-color: white;}#sk-container-id-3 div.sk-label label {font-family: monospace;font-weight: bold;display: inline-block;line-height: 1.2em;}#sk-container-id-3 div.sk-label-container {text-align: center;}#sk-container-id-3 div.sk-container {/* jupyter's `normalize.less` sets `[hidden] { display: none; }` but bootstrap.min.css set `[hidden] { display: none !important; }` so we also need the `!important` here to be able to override the default hidden behavior on the sphinx rendered scikit-learn.org. See: https://github.com/scikit-learn/scikit-learn/issues/21755 */display: inline-block !important;position: relative;}#sk-container-id-3 div.sk-text-repr-fallback {display: none;}</style><div id=\"sk-container-id-3\" class=\"sk-top-container\"><div class=\"sk-text-repr-fallback\"><pre>RandomizedSearchCV(estimator=XGBClassifier(base_score=None, booster=None,\n",
       "                                           callbacks=None,\n",
       "                                           colsample_bylevel=None,\n",
       "                                           colsample_bynode=None,\n",
       "                                           colsample_bytree=None, device=None,\n",
       "                                           early_stopping_rounds=None,\n",
       "                                           enable_categorical=False,\n",
       "                                           eval_metric=None, feature_types=None,\n",
       "                                           gamma=None, grow_policy=None,\n",
       "                                           importance_type=None,\n",
       "                                           interaction_constraints=None,\n",
       "                                           learning_rate=None...\n",
       "                                           max_cat_threshold=None,\n",
       "                                           max_cat_to_onehot=None,\n",
       "                                           max_delta_step=None, max_depth=None,\n",
       "                                           max_leaves=None,\n",
       "                                           min_child_weight=None, missing=nan,\n",
       "                                           monotone_constraints=None,\n",
       "                                           multi_strategy=None,\n",
       "                                           n_estimators=None, n_jobs=None,\n",
       "                                           num_parallel_tree=None,\n",
       "                                           random_state=None, ...),\n",
       "                   param_distributions={&#x27;learning_rate&#x27;: [0.1, 0.2, 0.3, 0.5],\n",
       "                                        &#x27;max_leaves&#x27;: [20, 60, 100, 140],\n",
       "                                        &#x27;n_estimators&#x27;: [20, 60, 100, 140]})</pre><b>In a Jupyter environment, please rerun this cell to show the HTML representation or trust the notebook. <br />On GitHub, the HTML representation is unable to render, please try loading this page with nbviewer.org.</b></div><div class=\"sk-container\" hidden><div class=\"sk-item sk-dashed-wrapped\"><div class=\"sk-label-container\"><div class=\"sk-label sk-toggleable\"><input class=\"sk-toggleable__control sk-hidden--visually\" id=\"sk-estimator-id-5\" type=\"checkbox\" ><label for=\"sk-estimator-id-5\" class=\"sk-toggleable__label sk-toggleable__label-arrow\">RandomizedSearchCV</label><div class=\"sk-toggleable__content\"><pre>RandomizedSearchCV(estimator=XGBClassifier(base_score=None, booster=None,\n",
       "                                           callbacks=None,\n",
       "                                           colsample_bylevel=None,\n",
       "                                           colsample_bynode=None,\n",
       "                                           colsample_bytree=None, device=None,\n",
       "                                           early_stopping_rounds=None,\n",
       "                                           enable_categorical=False,\n",
       "                                           eval_metric=None, feature_types=None,\n",
       "                                           gamma=None, grow_policy=None,\n",
       "                                           importance_type=None,\n",
       "                                           interaction_constraints=None,\n",
       "                                           learning_rate=None...\n",
       "                                           max_cat_threshold=None,\n",
       "                                           max_cat_to_onehot=None,\n",
       "                                           max_delta_step=None, max_depth=None,\n",
       "                                           max_leaves=None,\n",
       "                                           min_child_weight=None, missing=nan,\n",
       "                                           monotone_constraints=None,\n",
       "                                           multi_strategy=None,\n",
       "                                           n_estimators=None, n_jobs=None,\n",
       "                                           num_parallel_tree=None,\n",
       "                                           random_state=None, ...),\n",
       "                   param_distributions={&#x27;learning_rate&#x27;: [0.1, 0.2, 0.3, 0.5],\n",
       "                                        &#x27;max_leaves&#x27;: [20, 60, 100, 140],\n",
       "                                        &#x27;n_estimators&#x27;: [20, 60, 100, 140]})</pre></div></div></div><div class=\"sk-parallel\"><div class=\"sk-parallel-item\"><div class=\"sk-item\"><div class=\"sk-label-container\"><div class=\"sk-label sk-toggleable\"><input class=\"sk-toggleable__control sk-hidden--visually\" id=\"sk-estimator-id-6\" type=\"checkbox\" ><label for=\"sk-estimator-id-6\" class=\"sk-toggleable__label sk-toggleable__label-arrow\">estimator: XGBClassifier</label><div class=\"sk-toggleable__content\"><pre>XGBClassifier(base_score=None, booster=None, callbacks=None,\n",
       "              colsample_bylevel=None, colsample_bynode=None,\n",
       "              colsample_bytree=None, device=None, early_stopping_rounds=None,\n",
       "              enable_categorical=False, eval_metric=None, feature_types=None,\n",
       "              gamma=None, grow_policy=None, importance_type=None,\n",
       "              interaction_constraints=None, learning_rate=None, max_bin=None,\n",
       "              max_cat_threshold=None, max_cat_to_onehot=None,\n",
       "              max_delta_step=None, max_depth=None, max_leaves=None,\n",
       "              min_child_weight=None, missing=nan, monotone_constraints=None,\n",
       "              multi_strategy=None, n_estimators=None, n_jobs=None,\n",
       "              num_parallel_tree=None, random_state=None, ...)</pre></div></div></div><div class=\"sk-serial\"><div class=\"sk-item\"><div class=\"sk-estimator sk-toggleable\"><input class=\"sk-toggleable__control sk-hidden--visually\" id=\"sk-estimator-id-7\" type=\"checkbox\" ><label for=\"sk-estimator-id-7\" class=\"sk-toggleable__label sk-toggleable__label-arrow\">XGBClassifier</label><div class=\"sk-toggleable__content\"><pre>XGBClassifier(base_score=None, booster=None, callbacks=None,\n",
       "              colsample_bylevel=None, colsample_bynode=None,\n",
       "              colsample_bytree=None, device=None, early_stopping_rounds=None,\n",
       "              enable_categorical=False, eval_metric=None, feature_types=None,\n",
       "              gamma=None, grow_policy=None, importance_type=None,\n",
       "              interaction_constraints=None, learning_rate=None, max_bin=None,\n",
       "              max_cat_threshold=None, max_cat_to_onehot=None,\n",
       "              max_delta_step=None, max_depth=None, max_leaves=None,\n",
       "              min_child_weight=None, missing=nan, monotone_constraints=None,\n",
       "              multi_strategy=None, n_estimators=None, n_jobs=None,\n",
       "              num_parallel_tree=None, random_state=None, ...)</pre></div></div></div></div></div></div></div></div></div></div>"
      ],
      "text/plain": [
       "RandomizedSearchCV(estimator=XGBClassifier(base_score=None, booster=None,\n",
       "                                           callbacks=None,\n",
       "                                           colsample_bylevel=None,\n",
       "                                           colsample_bynode=None,\n",
       "                                           colsample_bytree=None, device=None,\n",
       "                                           early_stopping_rounds=None,\n",
       "                                           enable_categorical=False,\n",
       "                                           eval_metric=None, feature_types=None,\n",
       "                                           gamma=None, grow_policy=None,\n",
       "                                           importance_type=None,\n",
       "                                           interaction_constraints=None,\n",
       "                                           learning_rate=None...\n",
       "                                           max_cat_threshold=None,\n",
       "                                           max_cat_to_onehot=None,\n",
       "                                           max_delta_step=None, max_depth=None,\n",
       "                                           max_leaves=None,\n",
       "                                           min_child_weight=None, missing=nan,\n",
       "                                           monotone_constraints=None,\n",
       "                                           multi_strategy=None,\n",
       "                                           n_estimators=None, n_jobs=None,\n",
       "                                           num_parallel_tree=None,\n",
       "                                           random_state=None, ...),\n",
       "                   param_distributions={'learning_rate': [0.1, 0.2, 0.3, 0.5],\n",
       "                                        'max_leaves': [20, 60, 100, 140],\n",
       "                                        'n_estimators': [20, 60, 100, 140]})"
      ]
     },
     "execution_count": 55,
     "metadata": {},
     "output_type": "execute_result"
    }
   ],
   "source": [
    "randXGB.fit(xtrain,ytrain)"
   ]
  },
  {
   "cell_type": "markdown",
   "id": "5e6b0936-4b03-4b0f-a279-312b2349114c",
   "metadata": {},
   "source": [
    "## Best Parameters are below"
   ]
  },
  {
   "cell_type": "code",
   "execution_count": 56,
   "id": "69160d6d-3193-43c0-a2f1-226c377e4f9a",
   "metadata": {},
   "outputs": [
    {
     "data": {
      "text/plain": [
       "{'n_estimators': 100, 'max_leaves': 60, 'learning_rate': 0.1}"
      ]
     },
     "execution_count": 56,
     "metadata": {},
     "output_type": "execute_result"
    }
   ],
   "source": [
    "randXGB.best_params_"
   ]
  },
  {
   "cell_type": "code",
   "execution_count": 59,
   "id": "3fed1fa7-f07c-4efa-a9c6-cffb7f3c5acd",
   "metadata": {},
   "outputs": [
    {
     "data": {
      "text/html": [
       "<div>\n",
       "<style scoped>\n",
       "    .dataframe tbody tr th:only-of-type {\n",
       "        vertical-align: middle;\n",
       "    }\n",
       "\n",
       "    .dataframe tbody tr th {\n",
       "        vertical-align: top;\n",
       "    }\n",
       "\n",
       "    .dataframe thead th {\n",
       "        text-align: right;\n",
       "    }\n",
       "</style>\n",
       "<table border=\"1\" class=\"dataframe\">\n",
       "  <thead>\n",
       "    <tr style=\"text-align: right;\">\n",
       "      <th></th>\n",
       "      <th>mean_fit_time</th>\n",
       "      <th>std_fit_time</th>\n",
       "      <th>mean_score_time</th>\n",
       "      <th>std_score_time</th>\n",
       "      <th>param_n_estimators</th>\n",
       "      <th>param_max_leaves</th>\n",
       "      <th>param_learning_rate</th>\n",
       "      <th>params</th>\n",
       "      <th>split0_test_score</th>\n",
       "      <th>split1_test_score</th>\n",
       "      <th>split2_test_score</th>\n",
       "      <th>split3_test_score</th>\n",
       "      <th>split4_test_score</th>\n",
       "      <th>mean_test_score</th>\n",
       "      <th>std_test_score</th>\n",
       "      <th>rank_test_score</th>\n",
       "    </tr>\n",
       "  </thead>\n",
       "  <tbody>\n",
       "    <tr>\n",
       "      <th>0</th>\n",
       "      <td>1.011997</td>\n",
       "      <td>0.155511</td>\n",
       "      <td>0.032657</td>\n",
       "      <td>0.002800</td>\n",
       "      <td>20</td>\n",
       "      <td>20</td>\n",
       "      <td>0.1</td>\n",
       "      <td>{'n_estimators': 20, 'max_leaves': 20, 'learni...</td>\n",
       "      <td>0.849491</td>\n",
       "      <td>0.847175</td>\n",
       "      <td>0.849097</td>\n",
       "      <td>0.848580</td>\n",
       "      <td>0.847640</td>\n",
       "      <td>0.848397</td>\n",
       "      <td>0.000870</td>\n",
       "      <td>9</td>\n",
       "    </tr>\n",
       "    <tr>\n",
       "      <th>1</th>\n",
       "      <td>1.101278</td>\n",
       "      <td>0.156653</td>\n",
       "      <td>0.035200</td>\n",
       "      <td>0.006552</td>\n",
       "      <td>20</td>\n",
       "      <td>60</td>\n",
       "      <td>0.2</td>\n",
       "      <td>{'n_estimators': 20, 'max_leaves': 60, 'learni...</td>\n",
       "      <td>0.850994</td>\n",
       "      <td>0.847964</td>\n",
       "      <td>0.849565</td>\n",
       "      <td>0.849959</td>\n",
       "      <td>0.848896</td>\n",
       "      <td>0.849476</td>\n",
       "      <td>0.001017</td>\n",
       "      <td>7</td>\n",
       "    </tr>\n",
       "    <tr>\n",
       "      <th>2</th>\n",
       "      <td>5.349973</td>\n",
       "      <td>0.388282</td>\n",
       "      <td>0.097408</td>\n",
       "      <td>0.004719</td>\n",
       "      <td>140</td>\n",
       "      <td>140</td>\n",
       "      <td>0.3</td>\n",
       "      <td>{'n_estimators': 140, 'max_leaves': 140, 'lear...</td>\n",
       "      <td>0.850575</td>\n",
       "      <td>0.846214</td>\n",
       "      <td>0.848456</td>\n",
       "      <td>0.848752</td>\n",
       "      <td>0.846974</td>\n",
       "      <td>0.848195</td>\n",
       "      <td>0.001514</td>\n",
       "      <td>10</td>\n",
       "    </tr>\n",
       "    <tr>\n",
       "      <th>3</th>\n",
       "      <td>2.920061</td>\n",
       "      <td>0.222237</td>\n",
       "      <td>0.069186</td>\n",
       "      <td>0.009623</td>\n",
       "      <td>60</td>\n",
       "      <td>140</td>\n",
       "      <td>0.1</td>\n",
       "      <td>{'n_estimators': 60, 'max_leaves': 140, 'learn...</td>\n",
       "      <td>0.851216</td>\n",
       "      <td>0.847742</td>\n",
       "      <td>0.850058</td>\n",
       "      <td>0.851117</td>\n",
       "      <td>0.848256</td>\n",
       "      <td>0.849678</td>\n",
       "      <td>0.001439</td>\n",
       "      <td>4</td>\n",
       "    </tr>\n",
       "    <tr>\n",
       "      <th>4</th>\n",
       "      <td>4.051384</td>\n",
       "      <td>0.357270</td>\n",
       "      <td>0.099140</td>\n",
       "      <td>0.013219</td>\n",
       "      <td>100</td>\n",
       "      <td>20</td>\n",
       "      <td>0.5</td>\n",
       "      <td>{'n_estimators': 100, 'max_leaves': 20, 'learn...</td>\n",
       "      <td>0.850674</td>\n",
       "      <td>0.846954</td>\n",
       "      <td>0.850107</td>\n",
       "      <td>0.849984</td>\n",
       "      <td>0.847714</td>\n",
       "      <td>0.849086</td>\n",
       "      <td>0.001470</td>\n",
       "      <td>8</td>\n",
       "    </tr>\n",
       "    <tr>\n",
       "      <th>5</th>\n",
       "      <td>6.743430</td>\n",
       "      <td>0.568209</td>\n",
       "      <td>0.134947</td>\n",
       "      <td>0.012837</td>\n",
       "      <td>140</td>\n",
       "      <td>60</td>\n",
       "      <td>0.1</td>\n",
       "      <td>{'n_estimators': 140, 'max_leaves': 60, 'learn...</td>\n",
       "      <td>0.850896</td>\n",
       "      <td>0.847594</td>\n",
       "      <td>0.850674</td>\n",
       "      <td>0.850698</td>\n",
       "      <td>0.848724</td>\n",
       "      <td>0.849717</td>\n",
       "      <td>0.001324</td>\n",
       "      <td>3</td>\n",
       "    </tr>\n",
       "    <tr>\n",
       "      <th>6</th>\n",
       "      <td>4.969285</td>\n",
       "      <td>0.633958</td>\n",
       "      <td>0.105925</td>\n",
       "      <td>0.014624</td>\n",
       "      <td>100</td>\n",
       "      <td>60</td>\n",
       "      <td>0.1</td>\n",
       "      <td>{'n_estimators': 100, 'max_leaves': 60, 'learn...</td>\n",
       "      <td>0.851487</td>\n",
       "      <td>0.848038</td>\n",
       "      <td>0.851216</td>\n",
       "      <td>0.851610</td>\n",
       "      <td>0.848601</td>\n",
       "      <td>0.850190</td>\n",
       "      <td>0.001543</td>\n",
       "      <td>1</td>\n",
       "    </tr>\n",
       "    <tr>\n",
       "      <th>7</th>\n",
       "      <td>4.145113</td>\n",
       "      <td>0.468194</td>\n",
       "      <td>0.102362</td>\n",
       "      <td>0.018121</td>\n",
       "      <td>140</td>\n",
       "      <td>20</td>\n",
       "      <td>0.3</td>\n",
       "      <td>{'n_estimators': 140, 'max_leaves': 20, 'learn...</td>\n",
       "      <td>0.851068</td>\n",
       "      <td>0.847323</td>\n",
       "      <td>0.850230</td>\n",
       "      <td>0.850304</td>\n",
       "      <td>0.848995</td>\n",
       "      <td>0.849584</td>\n",
       "      <td>0.001311</td>\n",
       "      <td>6</td>\n",
       "    </tr>\n",
       "    <tr>\n",
       "      <th>8</th>\n",
       "      <td>3.531680</td>\n",
       "      <td>0.240012</td>\n",
       "      <td>0.088666</td>\n",
       "      <td>0.010087</td>\n",
       "      <td>100</td>\n",
       "      <td>100</td>\n",
       "      <td>0.2</td>\n",
       "      <td>{'n_estimators': 100, 'max_leaves': 100, 'lear...</td>\n",
       "      <td>0.851635</td>\n",
       "      <td>0.847397</td>\n",
       "      <td>0.850501</td>\n",
       "      <td>0.850575</td>\n",
       "      <td>0.847960</td>\n",
       "      <td>0.849614</td>\n",
       "      <td>0.001640</td>\n",
       "      <td>5</td>\n",
       "    </tr>\n",
       "    <tr>\n",
       "      <th>9</th>\n",
       "      <td>0.981653</td>\n",
       "      <td>0.130803</td>\n",
       "      <td>0.037263</td>\n",
       "      <td>0.006330</td>\n",
       "      <td>20</td>\n",
       "      <td>140</td>\n",
       "      <td>0.3</td>\n",
       "      <td>{'n_estimators': 20, 'max_leaves': 140, 'learn...</td>\n",
       "      <td>0.851906</td>\n",
       "      <td>0.847767</td>\n",
       "      <td>0.850403</td>\n",
       "      <td>0.850822</td>\n",
       "      <td>0.848157</td>\n",
       "      <td>0.849811</td>\n",
       "      <td>0.001592</td>\n",
       "      <td>2</td>\n",
       "    </tr>\n",
       "  </tbody>\n",
       "</table>\n",
       "</div>"
      ],
      "text/plain": [
       "   mean_fit_time  std_fit_time  mean_score_time  std_score_time  \\\n",
       "0       1.011997      0.155511         0.032657        0.002800   \n",
       "1       1.101278      0.156653         0.035200        0.006552   \n",
       "2       5.349973      0.388282         0.097408        0.004719   \n",
       "3       2.920061      0.222237         0.069186        0.009623   \n",
       "4       4.051384      0.357270         0.099140        0.013219   \n",
       "5       6.743430      0.568209         0.134947        0.012837   \n",
       "6       4.969285      0.633958         0.105925        0.014624   \n",
       "7       4.145113      0.468194         0.102362        0.018121   \n",
       "8       3.531680      0.240012         0.088666        0.010087   \n",
       "9       0.981653      0.130803         0.037263        0.006330   \n",
       "\n",
       "  param_n_estimators param_max_leaves param_learning_rate  \\\n",
       "0                 20               20                 0.1   \n",
       "1                 20               60                 0.2   \n",
       "2                140              140                 0.3   \n",
       "3                 60              140                 0.1   \n",
       "4                100               20                 0.5   \n",
       "5                140               60                 0.1   \n",
       "6                100               60                 0.1   \n",
       "7                140               20                 0.3   \n",
       "8                100              100                 0.2   \n",
       "9                 20              140                 0.3   \n",
       "\n",
       "                                              params  split0_test_score  \\\n",
       "0  {'n_estimators': 20, 'max_leaves': 20, 'learni...           0.849491   \n",
       "1  {'n_estimators': 20, 'max_leaves': 60, 'learni...           0.850994   \n",
       "2  {'n_estimators': 140, 'max_leaves': 140, 'lear...           0.850575   \n",
       "3  {'n_estimators': 60, 'max_leaves': 140, 'learn...           0.851216   \n",
       "4  {'n_estimators': 100, 'max_leaves': 20, 'learn...           0.850674   \n",
       "5  {'n_estimators': 140, 'max_leaves': 60, 'learn...           0.850896   \n",
       "6  {'n_estimators': 100, 'max_leaves': 60, 'learn...           0.851487   \n",
       "7  {'n_estimators': 140, 'max_leaves': 20, 'learn...           0.851068   \n",
       "8  {'n_estimators': 100, 'max_leaves': 100, 'lear...           0.851635   \n",
       "9  {'n_estimators': 20, 'max_leaves': 140, 'learn...           0.851906   \n",
       "\n",
       "   split1_test_score  split2_test_score  split3_test_score  split4_test_score  \\\n",
       "0           0.847175           0.849097           0.848580           0.847640   \n",
       "1           0.847964           0.849565           0.849959           0.848896   \n",
       "2           0.846214           0.848456           0.848752           0.846974   \n",
       "3           0.847742           0.850058           0.851117           0.848256   \n",
       "4           0.846954           0.850107           0.849984           0.847714   \n",
       "5           0.847594           0.850674           0.850698           0.848724   \n",
       "6           0.848038           0.851216           0.851610           0.848601   \n",
       "7           0.847323           0.850230           0.850304           0.848995   \n",
       "8           0.847397           0.850501           0.850575           0.847960   \n",
       "9           0.847767           0.850403           0.850822           0.848157   \n",
       "\n",
       "   mean_test_score  std_test_score  rank_test_score  \n",
       "0         0.848397        0.000870                9  \n",
       "1         0.849476        0.001017                7  \n",
       "2         0.848195        0.001514               10  \n",
       "3         0.849678        0.001439                4  \n",
       "4         0.849086        0.001470                8  \n",
       "5         0.849717        0.001324                3  \n",
       "6         0.850190        0.001543                1  \n",
       "7         0.849584        0.001311                6  \n",
       "8         0.849614        0.001640                5  \n",
       "9         0.849811        0.001592                2  "
      ]
     },
     "execution_count": 59,
     "metadata": {},
     "output_type": "execute_result"
    }
   ],
   "source": [
    "XGBresult = randXGB.cv_results_\n",
    "XGBresultdf = pd.DataFrame(XGBresult)\n",
    "XGBresultdf"
   ]
  },
  {
   "cell_type": "code",
   "execution_count": 62,
   "id": "ff171cbd-bd17-4414-9ffa-699b59fce0a0",
   "metadata": {},
   "outputs": [
    {
     "data": {
      "text/plain": [
       "<Axes: xlabel='param_n_estimators', ylabel='mean_test_score'>"
      ]
     },
     "execution_count": 62,
     "metadata": {},
     "output_type": "execute_result"
    },
    {
     "data": {
      "image/png": "[encoded data removed]",
      "text/plain": [
       "<Figure size 640x480 with 1 Axes>"
      ]
     },
     "metadata": {},
     "output_type": "display_data"
    }
   ],
   "source": [
    "sns.lineplot(XGBresultdf, x='param_n_estimators', y='mean_test_score', hue='param_learning_rate',palette='coolwarm')"
   ]
  },
  {
   "cell_type": "code",
   "execution_count": 63,
   "id": "b48f10c8-ef29-4b0c-9578-dec855b2e3a0",
   "metadata": {},
   "outputs": [],
   "source": [
    "XGBbest = XGBClassifier(\n",
    "    n_estimators=100, max_leaves=60, learning_rate=0.1\n",
    ")"
   ]
  },
  {
   "cell_type": "code",
   "execution_count": 67,
   "id": "aab21fb6-09c1-486a-8dd2-2d7c318e95a6",
   "metadata": {},
   "outputs": [],
   "source": [
    "XGBpredict = XGBbest.fit(xtrain,ytrain).predict(xtest)"
   ]
  },
  {
   "cell_type": "code",
   "execution_count": 89,
   "id": "6614ec29-cb7c-4d39-a225-5278507d6d87",
   "metadata": {},
   "outputs": [
    {
     "name": "stdout",
     "output_type": "stream",
     "text": [
      "precision_score is [0.86192235 0.         0.58599562]\n",
      "recall_score is [0.97991412 0.         0.18568853]\n"
     ]
    }
   ],
   "source": [
    "print(f'precision_score is {precision_score(ytest,XGBpredict,average=None,zero_division=0)}')\n",
    "print(f'recall_score is {recall_score(ytest,XGBpredict,average=None,zero_division=0)}')"
   ]
  },
  {
   "cell_type": "code",
   "execution_count": 69,
   "id": "535dd65e-9c2c-4d2e-93b6-691ad59dc303",
   "metadata": {},
   "outputs": [
    {
     "data": {
      "text/plain": [
       "Diabetes_012\n",
       "0.0    42617\n",
       "2.0     7211\n",
       "1.0      908\n",
       "Name: count, dtype: int64"
      ]
     },
     "execution_count": 69,
     "metadata": {},
     "output_type": "execute_result"
    }
   ],
   "source": [
    "ytest.value_counts()"
   ]
  },
  {
   "cell_type": "markdown",
   "id": "fe2fb11e-bcf7-4bc9-85aa-3566773f83f3",
   "metadata": {},
   "source": [
    "## Conclusion from precision and recall <br> precision_score shows during prediction 86% 0 and 59% 2 were correctly predicted <br> recall_score shows 99% and 19% 0 and 2 were correctly predict <br> None 1 is correctly predicted"
   ]
  },
  {
   "cell_type": "code",
   "execution_count": 99,
   "id": "902622e3-7821-40b7-8f6e-a5a9eb4849bf",
   "metadata": {},
   "outputs": [
    {
     "data": {
      "text/plain": [
       "Text(0.5, 1.0, 'Divided By All Tested Data')"
      ]
     },
     "execution_count": 99,
     "metadata": {},
     "output_type": "execute_result"
    },
    {
     "data": {
      "image/png": "[encoded data removed]",
      "text/plain": [
       "<Figure size 1200x400 with 4 Axes>"
      ]
     },
     "metadata": {},
     "output_type": "display_data"
    }
   ],
   "source": [
    "cmxgb = confusion_matrix(ytest,XGBpredict)\n",
    "fig,axes = plt.subplots(1,2,figsize=(12,4))\n",
    "sns.heatmap(cmxgb,annot=True,fmt=',',ax=axes[0])\n",
    "sns.heatmap(cmxgb/len(ytest),annot=True,fmt='.2%',ax=axes[1])\n",
    "axes[0].set_title('Heatmap')\n",
    "axes[1].set_title('Divided By All Tested Data')"
   ]
  },
  {
   "cell_type": "code",
   "execution_count": null,
   "id": "61b0b2d7-eeca-4898-a196-1e17585916f1",
   "metadata": {},
   "outputs": [],
   "source": []
  }
 ],
 "metadata": {
  "kernelspec": {
   "display_name": "Python 3 (ipykernel)",
   "language": "python",
   "name": "python3"
  },
  "language_info": {
   "codemirror_mode": {
    "name": "ipython",
    "version": 3
   },
   "file_extension": ".py",
   "mimetype": "text/x-python",
   "name": "python",
   "nbconvert_exporter": "python",
   "pygments_lexer": "ipython3",
   "version": "3.10.11"
  }
 },
 "nbformat": 4,
 "nbformat_minor": 5
}
